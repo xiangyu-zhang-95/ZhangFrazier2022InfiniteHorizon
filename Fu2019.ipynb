{
 "cells": [
  {
   "cell_type": "code",
   "execution_count": 1,
   "metadata": {},
   "outputs": [],
   "source": [
    "import numpy as np\n",
    "from collections import defaultdict\n",
    "import gurobipy as gp\n",
    "from gurobipy import GRB\n",
    "import pandas as pd\n",
    "\n",
    "from fluid_model import fluid_model\n",
    "import json"
   ]
  },
  {
   "cell_type": "code",
   "execution_count": 2,
   "metadata": {},
   "outputs": [],
   "source": [
    "def read_params(file_name):\n",
    "    params = json.load(open(file_name))\n",
    "    for key in params:\n",
    "        if isinstance(params[key], list):\n",
    "            params[key] = np.array(params[key])\n",
    "    params[\"budgets\"] = [params[\"budgets\"]] * params[\"T\"]\n",
    "    return params"
   ]
  },
  {
   "cell_type": "code",
   "execution_count": 3,
   "metadata": {},
   "outputs": [
    {
     "data": {
      "text/plain": [
       "{'num_actions': 2,\n",
       " 'num_states': 4,\n",
       " 'T': 100,\n",
       " 'gamma': 0.5,\n",
       " 'r': array([[-1, -1],\n",
       "        [ 0,  0],\n",
       "        [ 0,  0],\n",
       "        [ 1,  1]]),\n",
       " 'init_occupation': array([0.16666667, 0.33333333, 0.5       , 0.        ]),\n",
       " 'P1': array([[0.5, 0.5, 0. , 0. ],\n",
       "        [0. , 0.5, 0.5, 0. ],\n",
       "        [0. , 0. , 0.5, 0.5],\n",
       "        [0.5, 0. , 0. , 0.5]]),\n",
       " 'P0': array([[0.5, 0. , 0. , 0.5],\n",
       "        [0.5, 0.5, 0. , 0. ],\n",
       "        [0. , 0.5, 0.5, 0. ],\n",
       "        [0. , 0. , 0.5, 0.5]]),\n",
       " 'budgets': [0.5,\n",
       "  0.5,\n",
       "  0.5,\n",
       "  0.5,\n",
       "  0.5,\n",
       "  0.5,\n",
       "  0.5,\n",
       "  0.5,\n",
       "  0.5,\n",
       "  0.5,\n",
       "  0.5,\n",
       "  0.5,\n",
       "  0.5,\n",
       "  0.5,\n",
       "  0.5,\n",
       "  0.5,\n",
       "  0.5,\n",
       "  0.5,\n",
       "  0.5,\n",
       "  0.5,\n",
       "  0.5,\n",
       "  0.5,\n",
       "  0.5,\n",
       "  0.5,\n",
       "  0.5,\n",
       "  0.5,\n",
       "  0.5,\n",
       "  0.5,\n",
       "  0.5,\n",
       "  0.5,\n",
       "  0.5,\n",
       "  0.5,\n",
       "  0.5,\n",
       "  0.5,\n",
       "  0.5,\n",
       "  0.5,\n",
       "  0.5,\n",
       "  0.5,\n",
       "  0.5,\n",
       "  0.5,\n",
       "  0.5,\n",
       "  0.5,\n",
       "  0.5,\n",
       "  0.5,\n",
       "  0.5,\n",
       "  0.5,\n",
       "  0.5,\n",
       "  0.5,\n",
       "  0.5,\n",
       "  0.5,\n",
       "  0.5,\n",
       "  0.5,\n",
       "  0.5,\n",
       "  0.5,\n",
       "  0.5,\n",
       "  0.5,\n",
       "  0.5,\n",
       "  0.5,\n",
       "  0.5,\n",
       "  0.5,\n",
       "  0.5,\n",
       "  0.5,\n",
       "  0.5,\n",
       "  0.5,\n",
       "  0.5,\n",
       "  0.5,\n",
       "  0.5,\n",
       "  0.5,\n",
       "  0.5,\n",
       "  0.5,\n",
       "  0.5,\n",
       "  0.5,\n",
       "  0.5,\n",
       "  0.5,\n",
       "  0.5,\n",
       "  0.5,\n",
       "  0.5,\n",
       "  0.5,\n",
       "  0.5,\n",
       "  0.5,\n",
       "  0.5,\n",
       "  0.5,\n",
       "  0.5,\n",
       "  0.5,\n",
       "  0.5,\n",
       "  0.5,\n",
       "  0.5,\n",
       "  0.5,\n",
       "  0.5,\n",
       "  0.5,\n",
       "  0.5,\n",
       "  0.5,\n",
       "  0.5,\n",
       "  0.5,\n",
       "  0.5,\n",
       "  0.5,\n",
       "  0.5,\n",
       "  0.5,\n",
       "  0.5,\n",
       "  0.5]}"
      ]
     },
     "execution_count": 3,
     "metadata": {},
     "output_type": "execute_result"
    }
   ],
   "source": [
    "file_name = \"fu2019.json\"\n",
    "params = read_params(file_name)\n",
    "params"
   ]
  },
  {
   "cell_type": "code",
   "execution_count": 4,
   "metadata": {},
   "outputs": [
    {
     "name": "stdout",
     "output_type": "stream",
     "text": [
      "Using license file /Users/xiangyuzhang/gurobi.lic\n",
      "Academic license - for non-commercial use only\n",
      "Gurobi Optimizer version 9.0.2 build v9.0.2rc0 (mac64)\n",
      "Optimize a model with 500 rows, 800 columns and 2784 nonzeros\n",
      "Model fingerprint: 0xc7af7caa\n",
      "Coefficient statistics:\n",
      "  Matrix range     [5e-01, 1e+00]\n",
      "  Objective range  [2e-30, 1e+00]\n",
      "  Bounds range     [0e+00, 0e+00]\n",
      "  RHS range        [2e-01, 5e-01]\n",
      "Presolve removed 5 rows and 10 columns\n",
      "Presolve time: 0.01s\n",
      "Presolved: 495 rows, 790 columns, 2758 nonzeros\n",
      "\n",
      "Iteration    Objective       Primal Inf.    Dual Inf.      Time\n",
      "       0    1.0107583e+00   4.992855e+02   0.000000e+00      0s\n",
      "Extra 33 simplex iterations after uncrush\n",
      "     426    5.5555079e-02   0.000000e+00   0.000000e+00      0s\n",
      "\n",
      "Solved in 426 iterations and 0.02 seconds\n",
      "Optimal objective  5.555507872e-02\n"
     ]
    }
   ],
   "source": [
    "fluid = fluid_model(params)\n",
    "fluid.solve()"
   ]
  },
  {
   "cell_type": "code",
   "execution_count": 5,
   "metadata": {},
   "outputs": [
    {
     "name": "stdout",
     "output_type": "stream",
     "text": [
      "\n",
      "Fluid-balance reward per arm: 0.05555507872379466\n",
      "Whittle reward per arm: 0.04166666667224994,\n",
      "Fluid-balance beats Whittle by 33.33218891924085%.\n",
      "\n"
     ]
    }
   ],
   "source": [
    "whittle = fluid.deterministic_simulate_index((2, 1, 0, 3))\n",
    "\n",
    "print(\n",
    "f\"\"\"\n",
    "Fluid-balance reward per arm: {fluid.model.objVal}\n",
    "Whittle reward per arm: {whittle},\n",
    "Fluid-balance beats Whittle by {(fluid.model.objVal - whittle) / whittle * 100}%.\n",
    "\"\"\"\n",
    ")"
   ]
  },
  {
   "cell_type": "code",
   "execution_count": 6,
   "metadata": {},
   "outputs": [
    {
     "name": "stdout",
     "output_type": "stream",
     "text": [
      "Check whether this problem is indexable\n",
      " (True, 0.39999999999999997) \n",
      " (True, 0.25) \n",
      " (True, -0.25) \n",
      " (True, -0.4)\n"
     ]
    }
   ],
   "source": [
    "print(\n",
    "\"Check whether this problem is indexable\\n\",\n",
    "    fluid.is_feasible([False, False, True, False], 2), \"\\n\",\n",
    "    fluid.is_feasible([False, True, True, False], 1), \"\\n\",\n",
    "    fluid.is_feasible([True, True, True, False], 0), \"\\n\",\n",
    "    fluid.is_feasible([True, True, True, True], 3)\n",
    ")"
   ]
  },
  {
   "cell_type": "code",
   "execution_count": 9,
   "metadata": {},
   "outputs": [
    {
     "name": "stderr",
     "output_type": "stream",
     "text": [
      "100%|██████████| 1200/1200 [00:30<00:00, 39.48it/s]\n"
     ]
    }
   ],
   "source": [
    "n, m = 1200, 1200\n",
    "reward = fluid.simulate_index((2, 1, 0, 3), n, m)"
   ]
  },
  {
   "cell_type": "code",
   "execution_count": 10,
   "metadata": {},
   "outputs": [
    {
     "data": {
      "text/plain": [
       "(0.04013724111193085, 0.00036360062385718174)"
      ]
     },
     "execution_count": 10,
     "metadata": {},
     "output_type": "execute_result"
    }
   ],
   "source": [
    "np.mean(reward / n), np.std(reward / n) / np.sqrt(m)"
   ]
  },
  {
   "cell_type": "code",
   "execution_count": null,
   "metadata": {},
   "outputs": [],
   "source": []
  }
 ],
 "metadata": {
  "kernelspec": {
   "display_name": "Python 3",
   "language": "python",
   "name": "python3"
  },
  "language_info": {
   "codemirror_mode": {
    "name": "ipython",
    "version": 3
   },
   "file_extension": ".py",
   "mimetype": "text/x-python",
   "name": "python",
   "nbconvert_exporter": "python",
   "pygments_lexer": "ipython3",
   "version": "3.7.4"
  }
 },
 "nbformat": 4,
 "nbformat_minor": 2
}
