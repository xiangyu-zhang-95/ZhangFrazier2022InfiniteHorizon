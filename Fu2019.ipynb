{
 "cells": [
  {
   "cell_type": "code",
   "execution_count": 1,
   "metadata": {},
   "outputs": [],
   "source": [
    "import numpy as np\n",
    "from collections import defaultdict\n",
    "import gurobipy as gp\n",
    "from gurobipy import GRB\n",
    "import pandas as pd\n",
    "from multiprocessing import Pool\n",
    "from fluid_model import fluid_model#, simulate_index_policy\n",
    "import json\n",
    "import codecs\n",
    "from matplotlib import pyplot as plt\n",
    "import os"
   ]
  },
  {
   "cell_type": "code",
   "execution_count": 2,
   "metadata": {},
   "outputs": [],
   "source": [
    "def read_params(file_name):\n",
    "    params = json.load(open(file_name))\n",
    "    for key in params:\n",
    "        if isinstance(params[key], list):\n",
    "            params[key] = np.array(params[key])\n",
    "    params[\"budgets\"] = [params[\"budgets\"]] * params[\"T\"]\n",
    "    return params"
   ]
  },
  {
   "cell_type": "code",
   "execution_count": 3,
   "metadata": {},
   "outputs": [
    {
     "data": {
      "text/plain": [
       "{'num_actions': 2,\n",
       " 'num_states': 4,\n",
       " 'T': 100,\n",
       " 'gamma': 0.5,\n",
       " 'r': array([[-1, -1],\n",
       "        [ 0,  0],\n",
       "        [ 0,  0],\n",
       "        [ 1,  1]]),\n",
       " 'init_occupation': array([0.16666667, 0.33333333, 0.5       , 0.        ]),\n",
       " 'P1': array([[0.5, 0.5, 0. , 0. ],\n",
       "        [0. , 0.5, 0.5, 0. ],\n",
       "        [0. , 0. , 0.5, 0.5],\n",
       "        [0.5, 0. , 0. , 0.5]]),\n",
       " 'P0': array([[0.5, 0. , 0. , 0.5],\n",
       "        [0.5, 0.5, 0. , 0. ],\n",
       "        [0. , 0.5, 0.5, 0. ],\n",
       "        [0. , 0. , 0.5, 0.5]]),\n",
       " 'budgets': [0.5,\n",
       "  0.5,\n",
       "  0.5,\n",
       "  0.5,\n",
       "  0.5,\n",
       "  0.5,\n",
       "  0.5,\n",
       "  0.5,\n",
       "  0.5,\n",
       "  0.5,\n",
       "  0.5,\n",
       "  0.5,\n",
       "  0.5,\n",
       "  0.5,\n",
       "  0.5,\n",
       "  0.5,\n",
       "  0.5,\n",
       "  0.5,\n",
       "  0.5,\n",
       "  0.5,\n",
       "  0.5,\n",
       "  0.5,\n",
       "  0.5,\n",
       "  0.5,\n",
       "  0.5,\n",
       "  0.5,\n",
       "  0.5,\n",
       "  0.5,\n",
       "  0.5,\n",
       "  0.5,\n",
       "  0.5,\n",
       "  0.5,\n",
       "  0.5,\n",
       "  0.5,\n",
       "  0.5,\n",
       "  0.5,\n",
       "  0.5,\n",
       "  0.5,\n",
       "  0.5,\n",
       "  0.5,\n",
       "  0.5,\n",
       "  0.5,\n",
       "  0.5,\n",
       "  0.5,\n",
       "  0.5,\n",
       "  0.5,\n",
       "  0.5,\n",
       "  0.5,\n",
       "  0.5,\n",
       "  0.5,\n",
       "  0.5,\n",
       "  0.5,\n",
       "  0.5,\n",
       "  0.5,\n",
       "  0.5,\n",
       "  0.5,\n",
       "  0.5,\n",
       "  0.5,\n",
       "  0.5,\n",
       "  0.5,\n",
       "  0.5,\n",
       "  0.5,\n",
       "  0.5,\n",
       "  0.5,\n",
       "  0.5,\n",
       "  0.5,\n",
       "  0.5,\n",
       "  0.5,\n",
       "  0.5,\n",
       "  0.5,\n",
       "  0.5,\n",
       "  0.5,\n",
       "  0.5,\n",
       "  0.5,\n",
       "  0.5,\n",
       "  0.5,\n",
       "  0.5,\n",
       "  0.5,\n",
       "  0.5,\n",
       "  0.5,\n",
       "  0.5,\n",
       "  0.5,\n",
       "  0.5,\n",
       "  0.5,\n",
       "  0.5,\n",
       "  0.5,\n",
       "  0.5,\n",
       "  0.5,\n",
       "  0.5,\n",
       "  0.5,\n",
       "  0.5,\n",
       "  0.5,\n",
       "  0.5,\n",
       "  0.5,\n",
       "  0.5,\n",
       "  0.5,\n",
       "  0.5,\n",
       "  0.5,\n",
       "  0.5,\n",
       "  0.5]}"
      ]
     },
     "execution_count": 3,
     "metadata": {},
     "output_type": "execute_result"
    }
   ],
   "source": [
    "file_name = \"fu2019.json\"\n",
    "params = read_params(file_name)\n",
    "params"
   ]
  },
  {
   "cell_type": "code",
   "execution_count": 4,
   "metadata": {},
   "outputs": [
    {
     "name": "stdout",
     "output_type": "stream",
     "text": [
      "Using license file /Users/xiangyuzhang/gurobi.lic\n",
      "Academic license - for non-commercial use only\n",
      "Gurobi Optimizer version 9.0.2 build v9.0.2rc0 (mac64)\n",
      "Optimize a model with 500 rows, 800 columns and 2784 nonzeros\n",
      "Model fingerprint: 0xc7af7caa\n",
      "Coefficient statistics:\n",
      "  Matrix range     [5e-01, 1e+00]\n",
      "  Objective range  [2e-30, 1e+00]\n",
      "  Bounds range     [0e+00, 0e+00]\n",
      "  RHS range        [2e-01, 5e-01]\n",
      "Presolve removed 5 rows and 10 columns\n",
      "Presolve time: 0.01s\n",
      "Presolved: 495 rows, 790 columns, 2758 nonzeros\n",
      "\n",
      "Iteration    Objective       Primal Inf.    Dual Inf.      Time\n",
      "       0    1.0107583e+00   4.992855e+02   0.000000e+00      0s\n",
      "Extra 33 simplex iterations after uncrush\n",
      "     426    5.5555079e-02   0.000000e+00   0.000000e+00      0s\n",
      "\n",
      "Solved in 426 iterations and 0.02 seconds\n",
      "Optimal objective  5.555507872e-02\n"
     ]
    }
   ],
   "source": [
    "fluid = fluid_model(params)\n",
    "fluid.solve()"
   ]
  },
  {
   "cell_type": "code",
   "execution_count": 5,
   "metadata": {},
   "outputs": [
    {
     "name": "stdout",
     "output_type": "stream",
     "text": [
      "\n",
      "Fluid-balance reward per arm: 0.05555507872379466\n",
      "Whittle reward per arm: 0.04166666667224994,\n",
      "Fluid-balance beats Whittle by 33.33218891924085%.\n",
      "\n"
     ]
    }
   ],
   "source": [
    "whittle = fluid.deterministic_simulate_index((2, 1, 0, 3))\n",
    "\n",
    "print(\n",
    "f\"\"\"\n",
    "Fluid-balance reward per arm: {fluid.model.objVal}\n",
    "Whittle reward per arm: {whittle},\n",
    "Fluid-balance beats Whittle by {(fluid.model.objVal - whittle) / whittle * 100}%.\n",
    "\"\"\"\n",
    ")"
   ]
  },
  {
   "cell_type": "code",
   "execution_count": 6,
   "metadata": {},
   "outputs": [
    {
     "name": "stdout",
     "output_type": "stream",
     "text": [
      "Check whether this problem is indexable\n",
      " (True, 0.39999999999999997) \n",
      " (True, 0.25) \n",
      " (True, -0.25) \n",
      " (True, -0.4)\n"
     ]
    }
   ],
   "source": [
    "print(\n",
    "\"Check whether this problem is indexable\\n\",\n",
    "    fluid.is_feasible([False, False, True, False], 2), \"\\n\",\n",
    "    fluid.is_feasible([False, True, True, False], 1), \"\\n\",\n",
    "    fluid.is_feasible([True, True, True, False], 0), \"\\n\",\n",
    "    fluid.is_feasible([True, True, True, True], 3)\n",
    ")"
   ]
  },
  {
   "cell_type": "code",
   "execution_count": 7,
   "metadata": {},
   "outputs": [],
   "source": [
    "model = fluid\n",
    "def wrapper(args):\n",
    "    priority, n, m = args\n",
    "    return model.simulate_index(priority, n, m)\n",
    "\n",
    "def simulate_index_policy(priority, ns, ms):\n",
    "    assert(isinstance(priority, tuple))\n",
    "    assert(isinstance(ns, list))\n",
    "    assert(isinstance(ms, list))\n",
    "    assert(len(ns) == len(ms))\n",
    "    args = [(priority, ns[i], ms[i]) for i in range(len(ns))]\n",
    "    with Pool(len(ns)) as p:\n",
    "        res = p.map(wrapper, args)\n",
    "\n",
    "    return res\n",
    "\n",
    "def wrapper_fluid_balance(args):\n",
    "    priority, n, m = args\n",
    "    return model.simulate_fluid_balance(priority, n, m)\n",
    "\n",
    "def simulate_fluid_balance(priority, ns, ms):\n",
    "    assert(isinstance(priority, tuple))\n",
    "    assert(isinstance(ns, list))\n",
    "    assert(isinstance(ms, list))\n",
    "    assert(len(ns) == len(ms))\n",
    "    args = [(priority, ns[i], ms[i]) for i in range(len(ns))]\n",
    "    with Pool(len(ns)) as p:\n",
    "        res = p.map(wrapper_fluid_balance, args)\n",
    "\n",
    "    return res"
   ]
  },
  {
   "cell_type": "code",
   "execution_count": 8,
   "metadata": {},
   "outputs": [],
   "source": [
    "def generate_data(trial, priority, file_path, simu):\n",
    "    ns = [120 * k for k in range(1, trial + 1)]\n",
    "    ms = [2000] * trial\n",
    "\n",
    "    if not os.path.exists(file_path):\n",
    "        res = simu(priority, ns, ms)\n",
    "        json.dump(np.array(res).tolist(), codecs.open(file_path, 'w', encoding='utf-8'), \n",
    "                  separators=(',', ':'), sort_keys=True,indent=4)\n"
   ]
  },
  {
   "cell_type": "code",
   "execution_count": 9,
   "metadata": {},
   "outputs": [],
   "source": [
    "generate_data(trial=10, priority=(2, 1, 0, 3), \n",
    "              file_path=\"Fu2019_whittle.json\", simu=simulate_index_policy)\n",
    "generate_data(trial=10, priority=(2, 1, 0, 3), \n",
    "              file_path=\"Fu2019_fluid_balance.json\", simu=simulate_fluid_balance)"
   ]
  },
  {
   "cell_type": "code",
   "execution_count": 10,
   "metadata": {},
   "outputs": [],
   "source": [
    "def plot_performance(name_to_file_path, ns, ms, name_to_colors):\n",
    "    assert(len(name_to_colors) == len(name_to_file_path))\n",
    "    res, mean, std_err = {}, {}, {}\n",
    "    for name in name_to_file_path:\n",
    "        res[name] = np.array(json.loads(codecs.open(name_to_file_path[name],\n",
    "                                                    'r', encoding='utf-8').read()))\n",
    "        mean[name] = np.mean(np.array(res[name]), axis=1) / np.array(ns)\n",
    "\n",
    "        std_err[name] = np.std(np.array(res[name]) / np.array(ns).reshape(len(ns), 1), \n",
    "                         axis=1) / np.sqrt(ms)\n",
    "\n",
    "    \n",
    "    fig, ax = plt.subplots()\n",
    "    for name in name_to_file_path:\n",
    "        plt.errorbar(ns, mean[name], 2 * std_err[name], \n",
    "                     label=name, color=name_to_colors[name], ls='-.')\n",
    "    plt.plot(ns, [model.model.objVal] * len(ns), \"k:^\", label=\"Relaxation Upper Bound\", color='r')\n",
    "    plt.xlabel(ns)\n",
    "    plt.legend()\n",
    "    plt.title(\"Average Reward Per Arm\")\n",
    "    plt.xlabel(\"Number of Arms\")\n",
    "    plt.grid()\n",
    "    ax.set_xticks(ns)\n",
    "    plt.show()\n",
    "    \n",
    "    fig, ax = plt.subplots()\n",
    "    up_bound = model.model.objVal * np.array(ns)\n",
    "    for name in name_to_file_path:\n",
    "        assert(np.std(res[name], axis=1).shape == (len(ns), ))\n",
    "        assert((up_bound - np.mean(np.array(res[name]), axis=1)).shape == (len(ns), ))\n",
    "    for name in name_to_file_path:\n",
    "        plt.errorbar(ns, up_bound - np.mean(np.array(res[name]), axis=1),\n",
    "                     2 * np.std(res[name], axis=1) / np.sqrt(ms), color=name_to_colors[name], \n",
    "                     ls='-.', label = name)\n",
    "    plt.legend()\n",
    "    plt.title(\"Optimality Gap\")\n",
    "    plt.xlabel(\"Number of Arms\")\n",
    "    ax.set_xticks(ns)\n",
    "\n",
    "    plt.grid()\n",
    "    plt.show()\n",
    "    "
   ]
  },
  {
   "cell_type": "code",
   "execution_count": 11,
   "metadata": {},
   "outputs": [
    {
     "data": {
      "image/png": "[encoded data removed]",
      "text/plain": [
       "<Figure size 432x288 with 1 Axes>"
      ]
     },
     "metadata": {
      "needs_background": "light"
     },
     "output_type": "display_data"
    },
    {
     "data": {
      "image/png": "[encoded data removed]",
      "text/plain": [
       "<Figure size 432x288 with 1 Axes>"
      ]
     },
     "metadata": {
      "needs_background": "light"
     },
     "output_type": "display_data"
    }
   ],
   "source": [
    "trial = 10\n",
    "plot_performance({\"Whittle index\": \"Fu2019_whittle.json\", \"Fluid balance\": \"Fu2019_fluid_balance.json\"},\n",
    "                 ns = [120 * k for k in range(1, trial + 1)], ms = [2000] * trial, \n",
    "                 name_to_colors = {\"Whittle index\": \"green\", \"Fluid balance\": \"blue\"})"
   ]
  },
  {
   "cell_type": "code",
   "execution_count": null,
   "metadata": {},
   "outputs": [],
   "source": []
  }
 ],
 "metadata": {
  "kernelspec": {
   "display_name": "Python 3",
   "language": "python",
   "name": "python3"
  },
  "language_info": {
   "codemirror_mode": {
    "name": "ipython",
    "version": 3
   },
   "file_extension": ".py",
   "mimetype": "text/x-python",
   "name": "python",
   "nbconvert_exporter": "python",
   "pygments_lexer": "ipython3",
   "version": "3.7.4"
  }
 },
 "nbformat": 4,
 "nbformat_minor": 2
}
